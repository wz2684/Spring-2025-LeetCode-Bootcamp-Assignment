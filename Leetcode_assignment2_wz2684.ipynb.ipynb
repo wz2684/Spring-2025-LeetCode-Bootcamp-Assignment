{
 "cells": [
  {
   "cell_type": "markdown",
   "id": "5fbe6c46-89a8-49d0-b0c6-868ea5061fcd",
   "metadata": {},
   "source": [
    "# Week Two, wz2684"
   ]
  },
  {
   "cell_type": "markdown",
   "id": "a4613625-b8dd-41c7-8af5-0db9d6e67f42",
   "metadata": {},
   "source": [
    "#### Reverse A String"
   ]
  },
  {
   "cell_type": "code",
   "execution_count": 4,
   "id": "5595491a-efda-43d2-bc43-d237013b9ff8",
   "metadata": {},
   "outputs": [],
   "source": [
    "class Solution:\n",
    "    def reverseWords(self, s: str) -> str:\n",
    "\n",
    "        k = s.strip().split()\n",
    "\n",
    "        start = 0\n",
    "        end = len(k) - 1\n",
    "\n",
    "        while start < end:\n",
    "\n",
    "            temp = k[start]\n",
    "\n",
    "            k[start] = k[end]\n",
    "\n",
    "            k[end] = temp\n",
    "\n",
    "            start = start + 1\n",
    "\n",
    "            end = end - 1\n",
    "\n",
    "        return ' '.join(k)\n"
   ]
  },
  {
   "cell_type": "markdown",
   "id": "ddc5d376-b550-4343-9458-cb136dd0cc70",
   "metadata": {},
   "source": [
    "#### Find All Anagrams in a String"
   ]
  },
  {
   "cell_type": "code",
   "execution_count": 10,
   "id": "23b1e956-2e25-4cdd-98b1-d0a35408768f",
   "metadata": {},
   "outputs": [],
   "source": [
    "from typing import List\n",
    "from collections import Counter\n",
    "class Solution:\n",
    "    def findAnagrams(self, s: str, p: str) -> List[int]:\n",
    "        if len(p) > len(s):\n",
    "            return []  \n",
    "\n",
    "        p_count = Counter(p)  \n",
    "        s_count = Counter(s[:len(p)])  \n",
    "        result = []\n",
    "\n",
    "        if s_count == p_count:\n",
    "            result.append(0)\n",
    "\n",
    "        for i in range(len(p), len(s)):\n",
    "            left_char = s[i - len(p)]\n",
    "            s_count[left_char] -= 1\n",
    "            if s_count[left_char] == 0:\n",
    "                del s_count[left_char]  \n",
    "\n",
    "            right_char = s[i]\n",
    "            s_count[right_char] += 1\n",
    "\n",
    "            if s_count == p_count:\n",
    "                result.append(i - len(p) + 1)\n",
    "\n",
    "        return result"
   ]
  },
  {
   "cell_type": "markdown",
   "id": "3f41f593-8709-411b-966b-9320604a9300",
   "metadata": {},
   "source": [
    "#### ATOI"
   ]
  },
  {
   "cell_type": "code",
   "execution_count": 8,
   "id": "bf29b4ea-b2be-4700-b95c-22920ed4f555",
   "metadata": {},
   "outputs": [],
   "source": [
    "class Solution:\n",
    "    def myAtoi(self, s: str) -> int:\n",
    "        s = s.lstrip()\n",
    "        if not s:  # Edge case: Empty string after stripping\n",
    "            return 0\n",
    "\n",
    "        negative = False\n",
    "        if s[0] in ['-', '+']:\n",
    "            negative = s[0] == '-'\n",
    "            s = s[1:]\n",
    "\n",
    "        start, stop = -1, len(s)\n",
    "        \n",
    "        for i in range(len(s)):\n",
    "            if s[i].isdigit():\n",
    "                if start == -1:\n",
    "                    start = i\n",
    "            else:\n",
    "                stop = i\n",
    "                break\n",
    "\n",
    "        if start == -1:  \n",
    "            return 0\n",
    "\n",
    "        num = max(-2**31, min(-int(s[start:stop]) if negative else int(s[start:stop]), 2**31 - 1))\n",
    "        return num"
   ]
  },
  {
   "cell_type": "code",
   "execution_count": null,
   "id": "49179416-32f2-4dd1-b6a3-887a7fb153bc",
   "metadata": {},
   "outputs": [],
   "source": []
  }
 ],
 "metadata": {
  "kernelspec": {
   "display_name": "Python 3 (ipykernel)",
   "language": "python",
   "name": "python3"
  },
  "language_info": {
   "codemirror_mode": {
    "name": "ipython",
    "version": 3
   },
   "file_extension": ".py",
   "mimetype": "text/x-python",
   "name": "python",
   "nbconvert_exporter": "python",
   "pygments_lexer": "ipython3",
   "version": "3.11.7"
  }
 },
 "nbformat": 4,
 "nbformat_minor": 5
}
